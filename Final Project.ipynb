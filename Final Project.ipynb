{
 "cells": [
  {
   "cell_type": "code",
   "execution_count": 31,
   "metadata": {
    "scrolled": true
   },
   "outputs": [],
   "source": [
    "import urllib.parse,urllib.request,urllib.error\n",
    "import pandas as pd\n",
    "\n",
    "#!conda install -c conda-fo beautifulsoup4\n",
    "from bs4 import BeautifulSoup\n",
    "\n",
    "# The down two lines of code are regarding opening of url and downloading the data\n",
    "url  = 'https://en.wikipedia.org/wiki/List_of_postal_codes_of_Canada:_M'\n",
    "html = urllib.request.urlopen(url)\n",
    "\n",
    "# This line is cleaning the HTML code with BeautifulSoup\n",
    "soup = BeautifulSoup(html,'html.parser')\n",
    "\n",
    "# Then inserting the table data of the wikipedia page \n",
    "table = soup.find_all('table')[0] \n",
    "\n",
    "# Now loading the Data to list using pandas read_html\n",
    "lst = pd.read_html(str(table))\n",
    "\n",
    "# Converting List to pandas data frame \n",
    "df = pd.DataFrame(lst[0])\n"
   ]
  },
  {
   "cell_type": "code",
   "execution_count": 39,
   "metadata": {},
   "outputs": [],
   "source": [
    "# Removing the Not assigned Borough from data frame\n",
    "df = df[df[\"Borough\"] != \"Not assigned\"]\n"
   ]
  },
  {
   "cell_type": "code",
   "execution_count": 40,
   "metadata": {},
   "outputs": [
    {
     "data": {
      "text/plain": [
       "(210, 3)"
      ]
     },
     "execution_count": 40,
     "metadata": {},
     "output_type": "execute_result"
    }
   ],
   "source": [
    "df.shape"
   ]
  },
  {
   "cell_type": "code",
   "execution_count": null,
   "metadata": {},
   "outputs": [],
   "source": []
  }
 ],
 "metadata": {
  "kernelspec": {
   "display_name": "Python 3",
   "language": "python",
   "name": "python3"
  },
  "language_info": {
   "codemirror_mode": {
    "name": "ipython",
    "version": 3
   },
   "file_extension": ".py",
   "mimetype": "text/x-python",
   "name": "python",
   "nbconvert_exporter": "python",
   "pygments_lexer": "ipython3",
   "version": "3.7.4"
  }
 },
 "nbformat": 4,
 "nbformat_minor": 2
}
